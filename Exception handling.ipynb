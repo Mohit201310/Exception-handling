{
 "cells": [
  {
   "cell_type": "code",
   "execution_count": null,
   "id": "e5def544-74f4-4e64-90d5-3da79a8ca4b5",
   "metadata": {},
   "outputs": [],
   "source": [
    "# sybtax error =  these arror occur when we didn't code properly. or we are not write proper structure of code. this is also called parsing error."
   ]
  },
  {
   "cell_type": "code",
   "execution_count": 2,
   "id": "6955a8c2-791f-476b-a335-7f28232eb24b",
   "metadata": {},
   "outputs": [
    {
     "ename": "IndentationError",
     "evalue": "unexpected indent (1046592571.py, line 2)",
     "output_type": "error",
     "traceback": [
      "\u001b[0;36m  Cell \u001b[0;32mIn [2], line 2\u001b[0;36m\u001b[0m\n\u001b[0;31m    print(\"ineuron\")\u001b[0m\n\u001b[0m    ^\u001b[0m\n\u001b[0;31mIndentationError\u001b[0m\u001b[0;31m:\u001b[0m unexpected indent\n"
     ]
    }
   ],
   "source": [
    "print(\"i write code\")\n",
    "   print(\"ineuron\")"
   ]
  },
  {
   "cell_type": "code",
   "execution_count": 3,
   "id": "26f94c96-2660-4b4a-a4a9-7535f05a0956",
   "metadata": {},
   "outputs": [
    {
     "ename": "NameError",
     "evalue": "name 'a' is not defined",
     "output_type": "error",
     "traceback": [
      "\u001b[0;31m---------------------------------------------------------------------------\u001b[0m",
      "\u001b[0;31mNameError\u001b[0m                                 Traceback (most recent call last)",
      "Cell \u001b[0;32mIn [3], line 1\u001b[0m\n\u001b[0;32m----> 1\u001b[0m \u001b[43ma\u001b[49m\u001b[38;5;241m-\u001b[39m\u001b[38;5;241m10\u001b[39m\n",
      "\u001b[0;31mNameError\u001b[0m: name 'a' is not defined"
     ]
    }
   ],
   "source": [
    "a-10"
   ]
  },
  {
   "cell_type": "code",
   "execution_count": 4,
   "id": "2b6e047d-9200-40e8-9ffe-e7a6769863dc",
   "metadata": {},
   "outputs": [
    {
     "ename": "SyntaxError",
     "evalue": "expected ':' (1933333827.py, line 1)",
     "output_type": "error",
     "traceback": [
      "\u001b[0;36m  Cell \u001b[0;32mIn [4], line 1\u001b[0;36m\u001b[0m\n\u001b[0;31m    if(a<10)\u001b[0m\n\u001b[0m            ^\u001b[0m\n\u001b[0;31mSyntaxError\u001b[0m\u001b[0;31m:\u001b[0m expected ':'\n"
     ]
    }
   ],
   "source": [
    "if(a<10)\n",
    "  print(\"a is less then 10\")"
   ]
  },
  {
   "cell_type": "code",
   "execution_count": 6,
   "id": "b19460a3-796d-4911-b23d-9800ffb50286",
   "metadata": {},
   "outputs": [],
   "source": [
    "# Logical error or exeception handling =  it orror during run time or during execution of code"
   ]
  },
  {
   "cell_type": "code",
   "execution_count": 8,
   "id": "9436c1b2-f101-48b4-b490-cee5411253df",
   "metadata": {},
   "outputs": [
    {
     "ename": "ZeroDivisionError",
     "evalue": "division by zero",
     "output_type": "error",
     "traceback": [
      "\u001b[0;31m---------------------------------------------------------------------------\u001b[0m",
      "\u001b[0;31mZeroDivisionError\u001b[0m                         Traceback (most recent call last)",
      "Cell \u001b[0;32mIn [8], line 1\u001b[0m\n\u001b[0;32m----> 1\u001b[0m \u001b[38;5;241;43m1\u001b[39;49m\u001b[38;5;241;43m/\u001b[39;49m\u001b[38;5;241;43m0\u001b[39;49m\n",
      "\u001b[0;31mZeroDivisionError\u001b[0m: division by zero"
     ]
    }
   ],
   "source": [
    "1/0"
   ]
  },
  {
   "cell_type": "code",
   "execution_count": 11,
   "id": "9f7265b4-99d6-4ddf-90bd-6cb80d900dc2",
   "metadata": {},
   "outputs": [
    {
     "ename": "FileNotFoundError",
     "evalue": "[Errno 2] No such file or directory: 'tett.txt'",
     "output_type": "error",
     "traceback": [
      "\u001b[0;31m---------------------------------------------------------------------------\u001b[0m",
      "\u001b[0;31mFileNotFoundError\u001b[0m                         Traceback (most recent call last)",
      "Cell \u001b[0;32mIn [11], line 1\u001b[0m\n\u001b[0;32m----> 1\u001b[0m \u001b[38;5;28;43mopen\u001b[39;49m\u001b[43m(\u001b[49m\u001b[38;5;124;43m\"\u001b[39;49m\u001b[38;5;124;43mtett.txt\u001b[39;49m\u001b[38;5;124;43m\"\u001b[39;49m\u001b[43m)\u001b[49m\n",
      "\u001b[0;31mFileNotFoundError\u001b[0m: [Errno 2] No such file or directory: 'tett.txt'"
     ]
    }
   ],
   "source": [
    "open(\"tett.txt\")"
   ]
  },
  {
   "cell_type": "code",
   "execution_count": 14,
   "id": "c17045b8-4339-4c42-b56a-bdf17638fe23",
   "metadata": {},
   "outputs": [
    {
     "ename": "NameError",
     "evalue": "name 'c' is not defined",
     "output_type": "error",
     "traceback": [
      "\u001b[0;31m---------------------------------------------------------------------------\u001b[0m",
      "\u001b[0;31mNameError\u001b[0m                                 Traceback (most recent call last)",
      "Cell \u001b[0;32mIn [14], line 3\u001b[0m\n\u001b[1;32m      1\u001b[0m a\u001b[38;5;241m=\u001b[39m\u001b[38;5;241m10\u001b[39m\n\u001b[1;32m      2\u001b[0m b\u001b[38;5;241m=\u001b[39m\u001b[38;5;241m20\u001b[39m\n\u001b[0;32m----> 3\u001b[0m \u001b[38;5;28mprint\u001b[39m(\u001b[38;5;124m\"\u001b[39m\u001b[38;5;124maddition\u001b[39m\u001b[38;5;124m\"\u001b[39m,a\u001b[38;5;241m+\u001b[39m\u001b[43mc\u001b[49m)\n",
      "\u001b[0;31mNameError\u001b[0m: name 'c' is not defined"
     ]
    }
   ],
   "source": [
    "a=10\n",
    "b=20\n",
    "print(\"addition\",a+c)"
   ]
  },
  {
   "cell_type": "code",
   "execution_count": 1,
   "id": "d33aade2-d19e-4b18-96fc-f003b65c1df5",
   "metadata": {},
   "outputs": [
    {
     "name": "stdout",
     "output_type": "stream",
     "text": [
      "['ArithmeticError', 'AssertionError', 'AttributeError', 'BaseException', 'BlockingIOError', 'BrokenPipeError', 'BufferError', 'BytesWarning', 'ChildProcessError', 'ConnectionAbortedError', 'ConnectionError', 'ConnectionRefusedError', 'ConnectionResetError', 'DeprecationWarning', 'EOFError', 'Ellipsis', 'EncodingWarning', 'EnvironmentError', 'Exception', 'False', 'FileExistsError', 'FileNotFoundError', 'FloatingPointError', 'FutureWarning', 'GeneratorExit', 'IOError', 'ImportError', 'ImportWarning', 'IndentationError', 'IndexError', 'InterruptedError', 'IsADirectoryError', 'KeyError', 'KeyboardInterrupt', 'LookupError', 'MemoryError', 'ModuleNotFoundError', 'NameError', 'None', 'NotADirectoryError', 'NotImplemented', 'NotImplementedError', 'OSError', 'OverflowError', 'PendingDeprecationWarning', 'PermissionError', 'ProcessLookupError', 'RecursionError', 'ReferenceError', 'ResourceWarning', 'RuntimeError', 'RuntimeWarning', 'StopAsyncIteration', 'StopIteration', 'SyntaxError', 'SyntaxWarning', 'SystemError', 'SystemExit', 'TabError', 'TimeoutError', 'True', 'TypeError', 'UnboundLocalError', 'UnicodeDecodeError', 'UnicodeEncodeError', 'UnicodeError', 'UnicodeTranslateError', 'UnicodeWarning', 'UserWarning', 'ValueError', 'Warning', 'ZeroDivisionError', '__IPYTHON__', '__build_class__', '__debug__', '__doc__', '__import__', '__loader__', '__name__', '__package__', '__spec__', 'abs', 'aiter', 'all', 'anext', 'any', 'ascii', 'bin', 'bool', 'breakpoint', 'bytearray', 'bytes', 'callable', 'chr', 'classmethod', 'compile', 'complex', 'copyright', 'credits', 'delattr', 'dict', 'dir', 'display', 'divmod', 'enumerate', 'eval', 'exec', 'execfile', 'filter', 'float', 'format', 'frozenset', 'get_ipython', 'getattr', 'globals', 'hasattr', 'hash', 'help', 'hex', 'id', 'input', 'int', 'isinstance', 'issubclass', 'iter', 'len', 'license', 'list', 'locals', 'map', 'max', 'memoryview', 'min', 'next', 'object', 'oct', 'open', 'ord', 'pow', 'print', 'property', 'range', 'repr', 'reversed', 'round', 'runfile', 'set', 'setattr', 'slice', 'sorted', 'staticmethod', 'str', 'sum', 'super', 'tuple', 'type', 'vars', 'zip']\n"
     ]
    }
   ],
   "source": [
    "print(dir(locals()[\"__builtins__\"]))"
   ]
  },
  {
   "cell_type": "code",
   "execution_count": 6,
   "id": "e84cb942-9d51-42ba-872a-75495c6fb7b1",
   "metadata": {},
   "outputs": [
    {
     "name": "stdin",
     "output_type": "stream",
     "text": [
      " 0\n"
     ]
    },
    {
     "ename": "ZeroDivisionError",
     "evalue": "division by zero",
     "output_type": "error",
     "traceback": [
      "\u001b[0;31m---------------------------------------------------------------------------\u001b[0m",
      "\u001b[0;31mZeroDivisionError\u001b[0m                         Traceback (most recent call last)",
      "Cell \u001b[0;32mIn [6], line 3\u001b[0m\n\u001b[1;32m      1\u001b[0m a\u001b[38;5;241m=\u001b[39m \u001b[38;5;241m5\u001b[39m\n\u001b[1;32m      2\u001b[0m b\u001b[38;5;241m=\u001b[39m\u001b[38;5;28mint\u001b[39m(\u001b[38;5;28minput\u001b[39m())\n\u001b[0;32m----> 3\u001b[0m \u001b[43ma\u001b[49m\u001b[38;5;241;43m/\u001b[39;49m\u001b[43mb\u001b[49m\n",
      "\u001b[0;31mZeroDivisionError\u001b[0m: division by zero"
     ]
    }
   ],
   "source": [
    "a= 5\n",
    "b=int(input())\n",
    "a/b"
   ]
  },
  {
   "cell_type": "code",
   "execution_count": 8,
   "id": "3b3eb1ab-23ff-48b0-8177-033f8dcb7cb2",
   "metadata": {},
   "outputs": [
    {
     "name": "stdout",
     "output_type": "stream",
     "text": [
      "1.1111111111111112\n"
     ]
    }
   ],
   "source": [
    "try:             \n",
    "    a=10\n",
    "    b=9\n",
    "    c=a/b\n",
    "    print(c)\n",
    "except:\n",
    "    print(\" cant devide with zero provide different number\")"
   ]
  },
  {
   "cell_type": "code",
   "execution_count": 9,
   "id": "8ee81c26-4fd5-4492-ac44-ed8620ca93e9",
   "metadata": {},
   "outputs": [
    {
     "name": "stdout",
     "output_type": "stream",
     "text": [
      "there was mistake\n",
      "this is outer block\n"
     ]
    }
   ],
   "source": [
    "try :\n",
    "    f=open(\"test.txt\",\"r\")\n",
    "    f.write(\"ineuron\")\n",
    "except:\n",
    "    print(\"there was mistake\")\n",
    "    \n",
    "print(\"this is outer block\")"
   ]
  },
  {
   "cell_type": "code",
   "execution_count": 10,
   "id": "babb56e5-45d7-40a7-ac69-f1fca04ee63f",
   "metadata": {},
   "outputs": [
    {
     "ename": "FileNotFoundError",
     "evalue": "[Errno 2] No such file or directory: 'test.txt'",
     "output_type": "error",
     "traceback": [
      "\u001b[0;31m---------------------------------------------------------------------------\u001b[0m",
      "\u001b[0;31mFileNotFoundError\u001b[0m                         Traceback (most recent call last)",
      "Cell \u001b[0;32mIn [10], line 1\u001b[0m\n\u001b[0;32m----> 1\u001b[0m f\u001b[38;5;241m=\u001b[39m\u001b[38;5;28;43mopen\u001b[39;49m\u001b[43m(\u001b[49m\u001b[38;5;124;43m\"\u001b[39;49m\u001b[38;5;124;43mtest.txt\u001b[39;49m\u001b[38;5;124;43m\"\u001b[39;49m\u001b[43m,\u001b[49m\u001b[38;5;124;43m\"\u001b[39;49m\u001b[38;5;124;43mr\u001b[39;49m\u001b[38;5;124;43m\"\u001b[39;49m\u001b[43m)\u001b[49m\n",
      "\u001b[0;31mFileNotFoundError\u001b[0m: [Errno 2] No such file or directory: 'test.txt'"
     ]
    }
   ],
   "source": [
    " f=open(\"test.txt\",\"r\")"
   ]
  },
  {
   "cell_type": "code",
   "execution_count": 11,
   "id": "c9390b63-1155-4942-bf0d-2412247219d5",
   "metadata": {},
   "outputs": [
    {
     "name": "stdout",
     "output_type": "stream",
     "text": [
      "[4, 5, 6, 7, 8, 9, 9]\n",
      "[4, 5, 6, 7, 8, 9, 9]\n",
      "[4, 5, 6, 7, 8, 9, 9]\n",
      "[4, 5, 6, 7, 8, 9, 9]\n",
      "[4, 5, 6, 7, 8, 9, 9]\n",
      "[4, 5, 6, 7, 8, 9, 9]\n",
      "[4, 5, 6, 7, 8, 9, 9]\n"
     ]
    }
   ],
   "source": [
    "l=[4,5,6,7,8,9,9]\n",
    "\n",
    "try:\n",
    "    for i in range(len(l)):\n",
    "        print(l)\n",
    "except:\n",
    "    print(\"this is not working\")"
   ]
  },
  {
   "cell_type": "code",
   "execution_count": 13,
   "id": "4342eb86-7ef7-40a4-b25a-04b4c742b068",
   "metadata": {},
   "outputs": [
    {
     "name": "stdout",
     "output_type": "stream",
     "text": [
      "4\n",
      "5\n",
      "6\n",
      "7\n",
      "8\n",
      "9\n",
      "9\n",
      "this is not working\n"
     ]
    }
   ],
   "source": [
    "l=[4,5,6,7,8,9,9]\n",
    "\n",
    "try:\n",
    "    for i in range(len(l)+1):\n",
    "        print(l[i])\n",
    "except:\n",
    "    print(\"this is not working\")"
   ]
  },
  {
   "cell_type": "code",
   "execution_count": 14,
   "id": "776b02c5-9cf7-4dd9-9e6e-5e0a22f3c1b6",
   "metadata": {},
   "outputs": [
    {
     "name": "stdout",
     "output_type": "stream",
     "text": [
      "4\n",
      "5\n",
      "6\n",
      "7\n",
      "8\n",
      "9\n",
      "9\n"
     ]
    },
    {
     "ename": "IndexError",
     "evalue": "list index out of range",
     "output_type": "error",
     "traceback": [
      "\u001b[0;31m---------------------------------------------------------------------------\u001b[0m",
      "\u001b[0;31mIndexError\u001b[0m                                Traceback (most recent call last)",
      "Cell \u001b[0;32mIn [14], line 4\u001b[0m\n\u001b[1;32m      1\u001b[0m l\u001b[38;5;241m=\u001b[39m[\u001b[38;5;241m4\u001b[39m,\u001b[38;5;241m5\u001b[39m,\u001b[38;5;241m6\u001b[39m,\u001b[38;5;241m7\u001b[39m,\u001b[38;5;241m8\u001b[39m,\u001b[38;5;241m9\u001b[39m,\u001b[38;5;241m9\u001b[39m]\n\u001b[1;32m      3\u001b[0m \u001b[38;5;28;01mfor\u001b[39;00m i \u001b[38;5;129;01min\u001b[39;00m \u001b[38;5;28mrange\u001b[39m(\u001b[38;5;28mlen\u001b[39m(l)\u001b[38;5;241m+\u001b[39m\u001b[38;5;241m1\u001b[39m):\n\u001b[0;32m----> 4\u001b[0m     \u001b[38;5;28mprint\u001b[39m(\u001b[43ml\u001b[49m\u001b[43m[\u001b[49m\u001b[43mi\u001b[49m\u001b[43m]\u001b[49m)\n",
      "\u001b[0;31mIndexError\u001b[0m: list index out of range"
     ]
    }
   ],
   "source": [
    "l=[4,5,6,7,8,9,9]\n",
    "\n",
    "for i in range(len(l)+1):\n",
    "    print(l[i])"
   ]
  },
  {
   "cell_type": "code",
   "execution_count": 16,
   "id": "86a41c58-b62e-4774-affd-63efc1c83fb8",
   "metadata": {},
   "outputs": [
    {
     "name": "stdout",
     "output_type": "stream",
     "text": [
      "4\n",
      "5\n",
      "6\n",
      "7\n",
      "8\n",
      "9\n",
      "9\n",
      "list index out of range\n",
      "this is not working\n"
     ]
    }
   ],
   "source": [
    "l=[4,5,6,7,8,9,9]\n",
    "\n",
    "try:\n",
    "    for i in range(len(l)+1):\n",
    "        print(l[i])\n",
    "except Exception as e:\n",
    "    print(e)\n",
    "    print(\"this is not working\")"
   ]
  },
  {
   "cell_type": "code",
   "execution_count": 17,
   "id": "ad51e18f-309d-46c2-9db5-30604fe61c97",
   "metadata": {},
   "outputs": [
    {
     "name": "stdin",
     "output_type": "stream",
     "text": [
      " k\n"
     ]
    },
    {
     "name": "stdout",
     "output_type": "stream",
     "text": [
      "invalid literal for int() with base 10: 'k'\n",
      "ineuron\n"
     ]
    }
   ],
   "source": [
    "try:\n",
    "    a=int(input())\n",
    "    b=int(input())\n",
    "except Exception as e:\n",
    "    print(e)\n",
    "    print(\"ineuron\")"
   ]
  },
  {
   "cell_type": "code",
   "execution_count": 18,
   "id": "a0783e56-4ffb-4ad4-8db1-9f0f326051af",
   "metadata": {},
   "outputs": [
    {
     "name": "stdin",
     "output_type": "stream",
     "text": [
      " y\n"
     ]
    },
    {
     "ename": "ValueError",
     "evalue": "invalid literal for int() with base 10: 'y'",
     "output_type": "error",
     "traceback": [
      "\u001b[0;31m---------------------------------------------------------------------------\u001b[0m",
      "\u001b[0;31mValueError\u001b[0m                                Traceback (most recent call last)",
      "Cell \u001b[0;32mIn [18], line 1\u001b[0m\n\u001b[0;32m----> 1\u001b[0m a\u001b[38;5;241m=\u001b[39m\u001b[38;5;28;43mint\u001b[39;49m\u001b[43m(\u001b[49m\u001b[38;5;28;43minput\u001b[39;49m\u001b[43m(\u001b[49m\u001b[43m)\u001b[49m\u001b[43m)\u001b[49m\n\u001b[1;32m      2\u001b[0m b\u001b[38;5;241m=\u001b[39m\u001b[38;5;28mint\u001b[39m(\u001b[38;5;28minput\u001b[39m())\n",
      "\u001b[0;31mValueError\u001b[0m: invalid literal for int() with base 10: 'y'"
     ]
    }
   ],
   "source": [
    "a=int(input())\n",
    "b=int(input())"
   ]
  },
  {
   "cell_type": "code",
   "execution_count": 19,
   "id": "28c79f12-1421-4b3a-b0ba-347f784d1563",
   "metadata": {},
   "outputs": [
    {
     "name": "stdin",
     "output_type": "stream",
     "text": [
      "enter value of a: 4\n",
      "enter value of b: 2\n"
     ]
    },
    {
     "name": "stdout",
     "output_type": "stream",
     "text": [
      "answer 2.0\n"
     ]
    }
   ],
   "source": [
    "try:\n",
    "    a=int(input(\"enter value of a:\"))\n",
    "    b=int(input(\"enter value of b:\"))\n",
    "    c= a/b\n",
    "    print(\"answer\",c)\n",
    "except ValueError:\n",
    "    print(\"Entered value is wrong\")\n",
    "except ZeroDivisionError:\n",
    "    print(\"cannot devide by zero\")"
   ]
  },
  {
   "cell_type": "code",
   "execution_count": 20,
   "id": "631e9be0-e82c-4ccb-bb26-81aa8c8d82cd",
   "metadata": {},
   "outputs": [
    {
     "name": "stdin",
     "output_type": "stream",
     "text": [
      "enter value of a: 5\n",
      "enter value of b: ten\n"
     ]
    },
    {
     "name": "stdout",
     "output_type": "stream",
     "text": [
      "Entered value is wrong\n"
     ]
    }
   ],
   "source": [
    "try:\n",
    "    a=int(input(\"enter value of a:\"))\n",
    "    b=int(input(\"enter value of b:\"))\n",
    "    c= a/b\n",
    "    print(\"answer\",c)\n",
    "except ValueError:\n",
    "    print(\"Entered value is wrong\")\n",
    "except ZeroDivisionError:\n",
    "    print(\"cannot devide by zero\")"
   ]
  },
  {
   "cell_type": "code",
   "execution_count": 21,
   "id": "2662babc-d9f9-4867-b768-b82959894234",
   "metadata": {},
   "outputs": [
    {
     "name": "stdin",
     "output_type": "stream",
     "text": [
      "enter value of a: 4\n",
      "enter value of b: 0\n"
     ]
    },
    {
     "name": "stdout",
     "output_type": "stream",
     "text": [
      "cannot devide by zero\n"
     ]
    }
   ],
   "source": [
    "try:\n",
    "    a=int(input(\"enter value of a:\"))\n",
    "    b=int(input(\"enter value of b:\"))\n",
    "    c= a/b\n",
    "    print(\"answer\",c)\n",
    "except ValueError:\n",
    "    print(\"Entered value is wrong\")\n",
    "except ZeroDivisionError:\n",
    "    print(\"cannot devide by zero\")"
   ]
  },
  {
   "cell_type": "code",
   "execution_count": 31,
   "id": "2caf18aa-7a14-4344-b192-acd0a8745b1d",
   "metadata": {},
   "outputs": [
    {
     "name": "stdout",
     "output_type": "stream",
     "text": [
      " The entry is a\n",
      "oops <class 'ValueError'> occured\n",
      "next entry\n",
      " The entry is 0\n",
      "oops <class 'ZeroDivisionError'> occured\n",
      "next entry\n",
      " The entry is 2\n",
      "The reciprocal of 2 is 0.5\n"
     ]
    }
   ],
   "source": [
    "import sys \n",
    "\n",
    "randomlist =[\"a\",0,2]\n",
    "\n",
    "for entry in randomlist:\n",
    "    try:\n",
    "        print(\" The entry is\",entry)\n",
    "        r=1/int(entry)\n",
    "        break\n",
    "    except:\n",
    "        print(\"oops\",sys.exc_info()[0],\"occured\")\n",
    "        print(\"next entry\")\n",
    "        \n",
    "print(\"The reciprocal of\",entry,\"is\",r)\n"
   ]
  },
  {
   "cell_type": "code",
   "execution_count": null,
   "id": "f6a948fe-43f5-4983-9bfa-21332fc85ca5",
   "metadata": {},
   "outputs": [],
   "source": [
    "try:\n",
    "    #block of code\n",
    "except Exceptions:\n",
    "    #block of code\n",
    "else:\n",
    "    #this code is executes when exception not occured\n",
    "    "
   ]
  },
  {
   "cell_type": "code",
   "execution_count": 62,
   "id": "a7d546ee-6c9f-4deb-b6e0-ef7872c0d8a3",
   "metadata": {},
   "outputs": [
    {
     "name": "stdout",
     "output_type": "stream",
     "text": [
      " start coding\n"
     ]
    },
    {
     "name": "stdin",
     "output_type": "stream",
     "text": [
      "enter a number:  4\n"
     ]
    },
    {
     "name": "stdout",
     "output_type": "stream",
     "text": [
      "0.25\n",
      "closing of code\n"
     ]
    }
   ],
   "source": [
    "try:\n",
    "    print(\" start coding\")\n",
    "    num=int(input(\"enter a number: \"))\n",
    "    assert num % 2==0\n",
    "except:\n",
    "    print(\"not a even number\")\n",
    "\n",
    "else:\n",
    "    reciprocal=1/num\n",
    "    print(reciprocal)\n",
    "    \n",
    "finally:\n",
    "    print(\"closing of code\")"
   ]
  },
  {
   "cell_type": "code",
   "execution_count": 61,
   "id": "cb9c96d1-3315-4069-8e12-8de7d68a7492",
   "metadata": {},
   "outputs": [
    {
     "name": "stdin",
     "output_type": "stream",
     "text": [
      "enter value of a: 1\n",
      "enter value of b: 0\n"
     ]
    },
    {
     "name": "stdout",
     "output_type": "stream",
     "text": [
      "cannot devide by zero\n"
     ]
    }
   ],
   "source": [
    "try:\n",
    "    a=int(input(\"enter value of a:\"))\n",
    "    b=int(input(\"enter value of b:\"))\n",
    "    c= a/b\n",
    "    print(\"answer\",c)\n",
    "\n",
    "except ZeroDivisionError:\n",
    "    print(\"cannot devide by zero\")\n",
    "else:\n",
    "    print(\" else block\")"
   ]
  },
  {
   "cell_type": "code",
   "execution_count": 70,
   "id": "b3de16c8-87c6-4901-ab63-72d0b643a687",
   "metadata": {},
   "outputs": [
    {
     "name": "stdin",
     "output_type": "stream",
     "text": [
      "enter value of a: 4\n",
      "enter value of b: 0\n"
     ]
    },
    {
     "name": "stdout",
     "output_type": "stream",
     "text": [
      "cannot devide by zero\n",
      "from finally  block\n"
     ]
    }
   ],
   "source": [
    "try:\n",
    "    a=int(input(\"enter value of a:\"))\n",
    "    b=int(input(\"enter value of b:\"))\n",
    "    c= a/b\n",
    "    print(\"answer\",c)\n",
    "\n",
    "except ZeroDivisionError :\n",
    "    print(\"cannot devide by zero\")\n",
    "except ValueError:\n",
    "    print(\" enter wrong value\")\n",
    "finally:\n",
    "    print(\"from finally  block\")\n",
    "    "
   ]
  },
  {
   "cell_type": "code",
   "execution_count": 77,
   "id": "23bc581c-5cb4-4aea-9cf7-623d319e577e",
   "metadata": {},
   "outputs": [],
   "source": [
    "def divide(x,y):\n",
    "    print(x/y)"
   ]
  },
  {
   "cell_type": "code",
   "execution_count": 78,
   "id": "5a751195-7f57-4ba3-9b4c-2b3f84f75956",
   "metadata": {},
   "outputs": [
    {
     "name": "stdout",
     "output_type": "stream",
     "text": [
      "5.0\n"
     ]
    },
    {
     "ename": "ZeroDivisionError",
     "evalue": "division by zero",
     "output_type": "error",
     "traceback": [
      "\u001b[0;31m---------------------------------------------------------------------------\u001b[0m",
      "\u001b[0;31mZeroDivisionError\u001b[0m                         Traceback (most recent call last)",
      "Cell \u001b[0;32mIn [80], line 2\u001b[0m\n\u001b[1;32m      1\u001b[0m divide(\u001b[38;5;241m10\u001b[39m,\u001b[38;5;241m2\u001b[39m)\n\u001b[0;32m----> 2\u001b[0m \u001b[43mdivide\u001b[49m\u001b[43m(\u001b[49m\u001b[38;5;241;43m10\u001b[39;49m\u001b[43m,\u001b[49m\u001b[38;5;241;43m0\u001b[39;49m\u001b[43m)\u001b[49m\n\u001b[1;32m      3\u001b[0m divide(\u001b[38;5;241m10\u001b[39m,\u001b[38;5;241m4\u001b[39m)\n",
      "Cell \u001b[0;32mIn [79], line 2\u001b[0m, in \u001b[0;36mdivide\u001b[0;34m(x, y)\u001b[0m\n\u001b[1;32m      1\u001b[0m \u001b[38;5;28;01mdef\u001b[39;00m \u001b[38;5;21mdivide\u001b[39m(x,y):\n\u001b[0;32m----> 2\u001b[0m     \u001b[38;5;28mprint\u001b[39m(\u001b[43mx\u001b[49m\u001b[38;5;241;43m/\u001b[39;49m\u001b[43my\u001b[49m)\n",
      "\u001b[0;31mZeroDivisionError\u001b[0m: division by zero"
     ]
    }
   ],
   "source": [
    "divide(10,2)\n",
    "divide(10,0)\n",
    "divide(10,4)"
   ]
  },
  {
   "cell_type": "code",
   "execution_count": 86,
   "id": "458d2cb6-e4d8-4cf1-b35e-8f98e25fd939",
   "metadata": {},
   "outputs": [],
   "source": [
    "def divide(x,y):\n",
    "    try:\n",
    "        print(x/y)\n",
    "    except ZeroDivisionError as e:\n",
    "        print(e)\n",
    "        "
   ]
  },
  {
   "cell_type": "code",
   "execution_count": 87,
   "id": "72ef0766-9bf1-43bc-9b95-7bb3f1024963",
   "metadata": {},
   "outputs": [
    {
     "name": "stdout",
     "output_type": "stream",
     "text": [
      "5.0\n",
      "division by zero\n",
      "2.5\n"
     ]
    }
   ],
   "source": [
    "divide(10,2)\n",
    "divide(10,0)\n",
    "divide(10,4)"
   ]
  },
  {
   "cell_type": "code",
   "execution_count": 2,
   "id": "25f221dc-ad76-45ff-9507-23fc7cc3844c",
   "metadata": {},
   "outputs": [],
   "source": [
    "def divide(x,y):\n",
    "    try:\n",
    "        print(x/y)\n",
    "    except ZeroDivisionError as e:\n",
    "        print(e)\n",
    "        \n",
    "    else:\n",
    "        print(\" from else block\")\n",
    "    finally:\n",
    "        print(\" from finally \")"
   ]
  },
  {
   "cell_type": "code",
   "execution_count": 3,
   "id": "4f13cfd5-534e-4089-af39-f7900cb89ef6",
   "metadata": {},
   "outputs": [
    {
     "name": "stdout",
     "output_type": "stream",
     "text": [
      "5.0\n",
      " from else block\n",
      " from finally \n",
      "division by zero\n",
      " from finally \n",
      "2.5\n",
      " from else block\n",
      " from finally \n"
     ]
    }
   ],
   "source": [
    "divide(10,2)\n",
    "divide(10,0)\n",
    "divide(10,4)"
   ]
  },
  {
   "cell_type": "code",
   "execution_count": 4,
   "id": "46a513ae-7750-4df0-b8c0-e06642f70a07",
   "metadata": {},
   "outputs": [
    {
     "name": "stdout",
     "output_type": "stream",
     "text": [
      "outer try block\n",
      "nested try block\n",
      "outer except block\n",
      "division by zero\n"
     ]
    }
   ],
   "source": [
    "x= 10\n",
    "y=0\n",
    "\n",
    "try:\n",
    "    print(\"outer try block\")\n",
    "    try:\n",
    "        print(\"nested try block\")\n",
    "        print(x/y)\n",
    "    except TypeError as te:\n",
    "        print(\"nested except block\")\n",
    "        print(te)\n",
    "except ZeroDivisionError as ze :\n",
    "    print(\"outer except block\")\n",
    "    print(ze)"
   ]
  },
  {
   "cell_type": "code",
   "execution_count": 5,
   "id": "415a837c-bda2-4597-9cf4-edbfe076cf2a",
   "metadata": {},
   "outputs": [],
   "source": [
    "def funct1():\n",
    "    flag = True\n",
    "    while flag:\n",
    "        try:\n",
    "            a=int(input(\"enter the intergers\"))\n",
    "            if type(a) == int:\n",
    "                return \"yes , you entered an integer \"\n",
    "            flag = False\n",
    "        except Exception as e:\n",
    "            print(\"you did not entered an integer , please enter as integer\",e)\n",
    "            "
   ]
  },
  {
   "cell_type": "code",
   "execution_count": 8,
   "id": "1a177d25-2727-451c-a4c5-7fa395107c17",
   "metadata": {},
   "outputs": [
    {
     "name": "stdin",
     "output_type": "stream",
     "text": [
      "enter the intergers 4.5\n"
     ]
    },
    {
     "name": "stdout",
     "output_type": "stream",
     "text": [
      "you did not entered an integer , please enter as integer invalid literal for int() with base 10: '4.5'\n"
     ]
    },
    {
     "name": "stdin",
     "output_type": "stream",
     "text": [
      "enter the intergers 3\n"
     ]
    },
    {
     "data": {
      "text/plain": [
       "'yes , you entered an integer '"
      ]
     },
     "execution_count": 8,
     "metadata": {},
     "output_type": "execute_result"
    }
   ],
   "source": [
    "funct1()"
   ]
  },
  {
   "cell_type": "code",
   "execution_count": 17,
   "id": "8074f028-ae35-49a7-baf3-4c977364ec86",
   "metadata": {},
   "outputs": [
    {
     "name": "stdout",
     "output_type": "stream",
     "text": [
      "there is issue with my code\n",
      "(4, 5, 6, 7, 8, 9)\n"
     ]
    }
   ],
   "source": [
    "try:\n",
    "    l= [4,5,6,7,8,9]\n",
    "    l[10]\n",
    "except:\n",
    "    print(\"there is issue with my code\")\n",
    "    t = (4,5,6,7,8,9)\n",
    "    print(t)\n",
    "    try:\n",
    "        \n",
    "        t[0] = \"mohit\"\n",
    "        try:\n",
    "            list(t)\n",
    "            print(t)\n",
    "        except:\n",
    "            pass\n",
    "    except:\n",
    "        pass\n",
    "else:\n",
    "    print(\"there is no issue with code\")"
   ]
  },
  {
   "cell_type": "code",
   "execution_count": null,
   "id": "7c282d05-dfd5-499e-9e82-6fb3cf279d7d",
   "metadata": {},
   "outputs": [],
   "source": []
  }
 ],
 "metadata": {
  "kernelspec": {
   "display_name": "Python 3 (ipykernel)",
   "language": "python",
   "name": "python3"
  },
  "language_info": {
   "codemirror_mode": {
    "name": "ipython",
    "version": 3
   },
   "file_extension": ".py",
   "mimetype": "text/x-python",
   "name": "python",
   "nbconvert_exporter": "python",
   "pygments_lexer": "ipython3",
   "version": "3.10.6"
  }
 },
 "nbformat": 4,
 "nbformat_minor": 5
}
